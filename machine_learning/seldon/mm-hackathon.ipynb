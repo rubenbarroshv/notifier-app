{
 "cells": [
  {
   "cell_type": "markdown",
   "metadata": {},
   "source": [
    "###### MM/HIBI - Deploy All Models (1.0.0-b5 Release)"
   ]
  },
  {
   "cell_type": "markdown",
   "metadata": {},
   "source": [
    "Steps:\n",
    "- Create Project (if necessary)\n",
    "- Create Models (if necessary)\n",
    "- Create Datasets (if necessary)\n",
    "- Create Versions\n",
    "- Deploy Versions\n",
    "\n",
    "Obs: this notebook uses the services' internal endpoints. In future versions, it should use the external ones.\n",
    "\n",
    "**Before running the notebook, edit any values in the Setup section, if necessary. Don't edit anything in others sections.**"
   ]
  },
  {
   "cell_type": "markdown",
   "metadata": {},
   "source": [
    "## Setup"
   ]
  },
  {
   "cell_type": "markdown",
   "metadata": {},
   "source": [
    "Set working directory."
   ]
  },
  {
   "cell_type": "code",
   "execution_count": 9,
   "metadata": {},
   "outputs": [
    {
     "name": "stdout",
     "output_type": "stream",
     "text": [
      "/home/jovyan/shared/devs/model-management/1.0.0-b5\n"
     ]
    }
   ],
   "source": [
    "%cd /home/jovyan/shared/devs/model-management/1.0.0-b5"
   ]
  },
  {
   "cell_type": "markdown",
   "metadata": {},
   "source": [
    "Define constants."
   ]
  },
  {
   "cell_type": "code",
   "execution_count": 10,
   "metadata": {},
   "outputs": [],
   "source": [
    "PROJECT_NAME = \"Hackathon\"\n",
    "\n",
    "\n",
    "\n",
    "# Defect Detection Model\n",
    "DEFECT_DETECTION_MODEL_NAME = \"Defect Detection\"\n",
    "DEFECT_DETECTION_MODEL_DATASET_NAME = \"Defects 1\"\n",
    "DEFECT_DETECTION_MODEL_ASC_NAME = \"Defect Detection\"\n",
    "DEFECT_DETECTION_MODEL_VERSION_LOCATION = \"s3://mlruns-hibi-04/9/de5816614f624eecb65a0dcd618760be/artifacts/model\"\n",
    "DEFECT_DETECTION_MODEL_DEPLOY = True\n",
    "DEFECT_DETECTION_MODEL_DEPLOY_NODE_NAME = \"GPU - Inference\"\n",
    "DEFECT_DETECTION_MODEL_FORCE_DEPLOY = True\n",
    "DEFECT_DETECTION_MODEL_CPU_REQUESTS = 1\n",
    "DEFECT_DETECTION_MODEL_CPU_LIMITS = 2\n",
    "DEFECT_DETECTION_MODEL_MEM_REQUESTS = 1024*6 # in MiB\n",
    "DEFECT_DETECTION_MODEL_MEM_LIMITS = 1024*7 # in MiB\n",
    "DEFECT_DETECTION_MODEL_GPU = 1\n",
    "\n",
    "\n",
    "\n",
    "NAMESPACE = \"hitachi-solutions\""
   ]
  },
  {
   "cell_type": "markdown",
   "metadata": {},
   "source": [
    "## Dependencies"
   ]
  },
  {
   "cell_type": "markdown",
   "metadata": {},
   "source": [
    "Import dependencies."
   ]
  },
  {
   "cell_type": "code",
   "execution_count": 11,
   "metadata": {},
   "outputs": [],
   "source": [
    "from pprint import pprint\n",
    "\n",
    "import os\n",
    "import random\n",
    "import sys\n",
    "import time\n",
    "\n",
    "import mlflow\n",
    "\n",
    "sys.path.insert(0, \"/home/jovyan/shared/devs/model-management/1.0.0-b5\")\n",
    "\n",
    "from mm_client.api import dataset_api, deploy_api, model_api, model_version_api, project_api\n",
    "from mm_client.api_client import ApiClient\n",
    "from mm_client.configuration import Configuration\n",
    "from mm_client.exceptions import ApiException\n",
    "from mm_client.model.confusion_matrix import ConfusionMatrix\n",
    "from mm_client.model.deploy_request import DeployRequest\n",
    "from mm_client.model.feedback_metrics import FeedbackMetrics\n",
    "from mm_client.model.feedback_request import FeedbackRequest\n",
    "from mm_client.model.inline_object4 import InlineObject4\n",
    "from mm_client.model.inline_object5 import InlineObject5\n",
    "from mm_client.model.inline_object6 import InlineObject6\n",
    "from mm_client.model.inline_object7 import InlineObject7\n",
    "from mm_client.model.metrics import Metrics\n",
    "from mm_client.model.metrics_metrics import MetricsMetrics\n",
    "from mm_client.model.model_version import ModelVersion\n",
    "from mm_client.model.parameter import Parameter\n",
    "from mm_client.model.predict_request import PredictRequest\n",
    "from mm_client.model.predict_request_data import PredictRequestData\n",
    "from mm_client.model.predict_response import PredictResponse\n",
    "from mm_client.model.resources import Resources\n",
    "from mm_client.model.resources_data import ResourcesData"
   ]
  },
  {
   "cell_type": "markdown",
   "metadata": {},
   "source": [
    "## Get API Clients"
   ]
  },
  {
   "cell_type": "markdown",
   "metadata": {},
   "source": [
    "Get the API clients for the different Model Management services."
   ]
  },
  {
   "cell_type": "code",
   "execution_count": 12,
   "metadata": {},
   "outputs": [],
   "source": [
    "# Manager service\n",
    "manager_svc_config = Configuration(host = f\"http://lumada-ml-model-management-manager-svc.{NAMESPACE}.svc.cluster.local:8080/api/v0\")\n",
    "manager_svc_api_client =  ApiClient(manager_svc_config)\n",
    "proj_api_instance = project_api.ProjectApi(manager_svc_api_client)\n",
    "model_api_instance = model_api.ModelApi(manager_svc_api_client)\n",
    "dataset_api_instance = dataset_api.DatasetApi(manager_svc_api_client)\n",
    "version_api_instance = model_version_api.ModelVersionApi(manager_svc_api_client)\n",
    "\n",
    "# Deployment service\n",
    "deployment_svc_config = Configuration(host = f\"http://lumada-ml-model-management-deployment-svc.{NAMESPACE}.svc.cluster.local:8080/api/v0\")\n",
    "deployment_svc_api_client = ApiClient(deployment_svc_config)\n",
    "deploy_api_instance = deploy_api.DeployApi(deployment_svc_api_client)"
   ]
  },
  {
   "cell_type": "markdown",
   "metadata": {},
   "source": [
    "## Manage Projects, Models and Datasets"
   ]
  },
  {
   "cell_type": "markdown",
   "metadata": {},
   "source": [
    "Create Project (or get existing one)."
   ]
  },
  {
   "cell_type": "code",
   "execution_count": 13,
   "metadata": {},
   "outputs": [
    {
     "name": "stdout",
     "output_type": "stream",
     "text": [
      "Project:\n",
      "{'ascs': ['Defect Detection'],\n",
      " 'created_at': datetime.datetime(2023, 1, 16, 17, 54, 19, 752000, tzinfo=tzlocal()),\n",
      " 'description': 'Project created from Jupyter Notebook.',\n",
      " 'id': 'bfbec903-370f-43da-bb57-cca619237667',\n",
      " 'modified_at': datetime.datetime(2023, 1, 16, 17, 57, 28, 24000, tzinfo=tzlocal()),\n",
      " 'name': 'Hackathon',\n",
      " 'status': {'value': 'Draft'},\n",
      " 'tags': []}\n"
     ]
    }
   ],
   "source": [
    "def get_projects():\n",
    "    try:\n",
    "        projects = proj_api_instance.getprojects(deleted=False)\n",
    "        # pprint(projects)\n",
    "        return projects\n",
    "    except ApiException as ex:\n",
    "        print(\"Exception when calling getprojects: %s\\n\" % ex)\n",
    "        return []\n",
    "    \n",
    "def create_project(proj):\n",
    "    try:\n",
    "        project = proj_api_instance.create_project(proj)\n",
    "        # pprint(project)\n",
    "        return project\n",
    "    except ApiException as ex:\n",
    "        print(\"Exception when calling create_project: %s\\n\" % ex)\n",
    "\n",
    "projects = get_projects()\n",
    "project = None\n",
    "\n",
    "for proj in projects:\n",
    "    if proj.name == PROJECT_NAME:\n",
    "        project = proj\n",
    "        break\n",
    "\n",
    "if project is None:\n",
    "    project_to_create = InlineObject4(\n",
    "        name=PROJECT_NAME,\n",
    "        description=\"Project created from Jupyter Notebook.\",\n",
    "        tags=[],\n",
    "    )\n",
    "\n",
    "    print(\"Creating project...\")\n",
    "    \n",
    "    project = create_project(project_to_create)\n",
    "        \n",
    "print(\"Project:\")\n",
    "pprint(project)"
   ]
  },
  {
   "cell_type": "markdown",
   "metadata": {},
   "source": [
    "Create Models (or get existing ones)."
   ]
  },
  {
   "cell_type": "code",
   "execution_count": 15,
   "metadata": {},
   "outputs": [
    {
     "name": "stdout",
     "output_type": "stream",
     "text": [
      "Defect Detection Model:\n",
      "{'asc': 'Defect Detection',\n",
      " 'created_at': datetime.datetime(2023, 1, 16, 17, 57, 28, 20000, tzinfo=tzlocal()),\n",
      " 'description': '',\n",
      " 'id': '1b050a98-71e3-4174-8185-112794918fd6',\n",
      " 'modified_at': datetime.datetime(2023, 1, 16, 17, 57, 28, 20000, tzinfo=tzlocal()),\n",
      " 'name': 'Defect Detection',\n",
      " 'status': {'value': 'Draft'},\n",
      " 'tags': []}\n"
     ]
    }
   ],
   "source": [
    "def get_models(project_id):\n",
    "    try:\n",
    "        models = model_api_instance.get_models(project_id, deleted=False)\n",
    "        # pprint(models)\n",
    "        return models\n",
    "    except ApiException as ex:\n",
    "        print(\"Exception when calling get_models: %s\\n\" % ex)\n",
    "        return []\n",
    "        \n",
    "def create_model(proj_id, mdl):\n",
    "    try:\n",
    "        model = model_api_instance.create_model(proj_id, mdl)\n",
    "        # pprint(model)\n",
    "        return model\n",
    "    except ApiException as ex:\n",
    "        print(\"Exception when calling create_model: %s\\n\" % ex)\n",
    "        return None\n",
    "\n",
    "models = get_models(project.id)\n",
    "asset_detection_model = None\n",
    "defect_detection_model = None\n",
    "rust_detection_model = None\n",
    "\n",
    "for mdl in models:\n",
    "\n",
    "    if mdl.name == DEFECT_DETECTION_MODEL_NAME:\n",
    "        defect_detection_model = mdl\n",
    "\n",
    "\n",
    "\n",
    "\n",
    "# Defect Detection Model\n",
    "if defect_detection_model is None:\n",
    "    model_to_create_2 = InlineObject6(\n",
    "        name=DEFECT_DETECTION_MODEL_NAME,\n",
    "        description=\"\",\n",
    "        tags=[],\n",
    "        asc=DEFECT_DETECTION_MODEL_ASC_NAME,\n",
    "    )\n",
    "\n",
    "    print(\"Creating Defect Detection Model...\")\n",
    "    \n",
    "    defect_detection_model = create_model(project.id, model_to_create_2)\n",
    "    \n",
    "print(\"Defect Detection Model:\")\n",
    "pprint(defect_detection_model)\n"
   ]
  },
  {
   "cell_type": "markdown",
   "metadata": {},
   "source": [
    "Create Datasets (or get existing ones)."
   ]
  },
  {
   "cell_type": "code",
   "execution_count": 17,
   "metadata": {},
   "outputs": [
    {
     "name": "stdout",
     "output_type": "stream",
     "text": [
      "Defect Detection Model dataset:\n",
      "{'added_at': datetime.datetime(2023, 1, 16, 17, 59, 30, 405000, tzinfo=tzlocal()),\n",
      " 'description': '',\n",
      " 'id': 'ca9382ff-2851-4a5e-ba9c-438c6207e1f5',\n",
      " 'location': 's3://datasets-mm/defects-1.csv',\n",
      " 'modified_at': datetime.datetime(2023, 1, 16, 17, 59, 30, 405000, tzinfo=tzlocal()),\n",
      " 'name': 'Defects 1'}\n"
     ]
    }
   ],
   "source": [
    "def get_datasets(project_id):\n",
    "    try:\n",
    "        datasets = dataset_api_instance.get_datasets(project_id)\n",
    "        # pprint(datasets)\n",
    "        return datasets\n",
    "    except ApiException as ex:\n",
    "        print(\"Exception when calling get_datasets: %s\\n\" % ex)\n",
    "        return []\n",
    "    \n",
    "def create_dataset(proj_id, ds):\n",
    "    try:\n",
    "        dataset = dataset_api_instance.create_dataset(proj_id, ds)\n",
    "        # pprint(dataset)\n",
    "        return dataset\n",
    "    except ApiException as ex:\n",
    "        print(\"Exception when calling create_dataset: %s\\n\" % ex)\n",
    "        return None\n",
    "\n",
    "datasets = get_datasets(project.id)\n",
    "asset_detection_model_dataset = None\n",
    "defect_detection_model_dataset = None\n",
    "rust_detection_model_dataset = None\n",
    "\n",
    "for ds in datasets:\n",
    "\n",
    "    if ds.name == DEFECT_DETECTION_MODEL_DATASET_NAME:\n",
    "        defect_detection_model_dataset = ds\n",
    "\n",
    "\n",
    "\n",
    "# Defect Detection Model\n",
    "if defect_detection_model_dataset is None:\n",
    "    ds_filename_2 = DEFECT_DETECTION_MODEL_DATASET_NAME.lower().replace(\" \", \"-\")\n",
    "    \n",
    "    dataset_to_create_2 = InlineObject5(\n",
    "        name=DEFECT_DETECTION_MODEL_DATASET_NAME,\n",
    "        description=\"\",\n",
    "        tags=[],\n",
    "        location=f\"s3://datasets-mm/{ds_filename_2}.csv\", # this is a dummy location!\n",
    "    )\n",
    "\n",
    "    print(\"Creating Defect Detection Model dataset...\")\n",
    "    \n",
    "    defect_detection_model_dataset = create_dataset(project.id, dataset_to_create_2)\n",
    "    \n",
    "print(\"Defect Detection Model dataset:\")\n",
    "pprint(defect_detection_model_dataset)\n",
    "\n"
   ]
  },
  {
   "cell_type": "markdown",
   "metadata": {},
   "source": [
    "## Create Versions"
   ]
  },
  {
   "cell_type": "markdown",
   "metadata": {},
   "source": [
    "Create the Versions."
   ]
  },
  {
   "cell_type": "code",
   "execution_count": 18,
   "metadata": {},
   "outputs": [
    {
     "name": "stdout",
     "output_type": "stream",
     "text": [
      "Creating Defect Detection ModelVersion...\n",
      "Exception when calling create_version: (400)\n",
      "Reason: Bad Request\n",
      "HTTP response headers: HTTPHeaderDict({'content-type': 'application/json; charset=utf-8', 'vary': 'Origin', 'date': 'Mon, 16 Jan 2023 18:17:37 GMT', 'content-length': '66', 'x-envoy-upstream-service-time': '1', 'server': 'istio-envoy', 'x-envoy-decorator-operation': 'lumada-ml-model-management-manager-svc.hitachi-solutions.svc.cluster.local:8080/*'})\n",
      "HTTP response body: {\"message\":\"invalid json body\",\"status\":400,\"error\":\"bad_request\"}\n",
      "\n",
      "\n",
      "Defect Detection ModelVersion:\n",
      "None\n"
     ]
    }
   ],
   "source": [
    "os.environ[\"MLFLOW_TRACKING_URI\"] = f\"http://lumada-ml-model-lifecycle-mlflow.{NAMESPACE}.svc.cluster.local:5000\"\n",
    "\n",
    "def get_version(project_id, model_id, version_no):\n",
    "    try:\n",
    "        version = version_api_instance.get_version(project_id, model_id, version_no)\n",
    "        # pprint(version)\n",
    "        return version\n",
    "    except ApiException as ex:\n",
    "        print(\"Exception when calling get_version: %s\\n\" % ex)\n",
    "        return None\n",
    "    \n",
    "def create_version(proj_id, model_id, version):\n",
    "    try:\n",
    "        version = version_api_instance.create_version(proj_id, model_id, version)\n",
    "        # pprint(version)\n",
    "        return version\n",
    "    except ApiException as ex:\n",
    "        print(\"Exception when calling create_version: %s\\n\" % ex)\n",
    "        return None\n",
    "\n",
    "\n",
    "# Defect Detection Model\n",
    "version_to_create_2 = InlineObject7(\n",
    "    description=\"\",\n",
    "    tags=[],\n",
    "    dataset_id=defect_detection_model_dataset.id,        \n",
    "    location=DEFECT_DETECTION_MODEL_VERSION_LOCATION,\n",
    "    params=[],\n",
    "    metrics=[],\n",
    "    training_duration=1000,\n",
    ")\n",
    "\n",
    "print(\"Creating Defect Detection ModelVersion...\")\n",
    "\n",
    "defect_detection_model_version = create_version(project.id, defect_detection_model.id, version_to_create_2)\n",
    "\n",
    "print(\"Defect Detection ModelVersion:\")\n",
    "pprint(defect_detection_model_version)\n",
    "\n",
    "# Rust Detection M"
   ]
  },
  {
   "cell_type": "markdown",
   "metadata": {},
   "source": [
    "### Deploy Versions"
   ]
  },
  {
   "cell_type": "markdown",
   "metadata": {},
   "source": [
    "Deploy the Versions."
   ]
  },
  {
   "cell_type": "code",
   "execution_count": null,
   "metadata": {},
   "outputs": [],
   "source": [
    "def deploy_version(request, force=False):\n",
    "    try:\n",
    "        response = deploy_api_instance.deploy_version(request, force=force)\n",
    "        # pprint(response)\n",
    "        return response\n",
    "    except ApiException as ex:\n",
    "        print(\"Exception when calling deploy_version: %s\\n\" % ex)\n",
    "        return None\n",
    "\n",
    "\n",
    "# Asset Detection Model\n",
    "if ASSET_DETECTION_MODEL_DEPLOY:\n",
    "    asset_detection_model_deploy_request = DeployRequest(\n",
    "        name=f\"Asset Detection\",\n",
    "        description=\"\",\n",
    "        project_id=project.id,\n",
    "        model_id=asset_detection_model.id,\n",
    "        version_id=asset_detection_model_version.version,\n",
    "        node_name=ASSET_DETECTION_MODEL_DEPLOY_NODE_NAME,\n",
    "        resources=Resources(\n",
    "            requests=ResourcesData(\n",
    "                cpu=float(ASSET_DETECTION_MODEL_CPU_REQUESTS),\n",
    "                memory=float(ASSET_DETECTION_MODEL_MEM_REQUESTS),\n",
    "                gpu=ASSET_DETECTION_MODEL_GPU,\n",
    "            ),\n",
    "            limits=ResourcesData(\n",
    "                cpu=float(ASSET_DETECTION_MODEL_CPU_LIMITS),\n",
    "                memory=float(ASSET_DETECTION_MODEL_MEM_LIMITS),\n",
    "                gpu=ASSET_DETECTION_MODEL_GPU,\n",
    "            )\n",
    "        )\n",
    "    )\n",
    "\n",
    "    # print(\"Asset Detection Model deploy request:\")\n",
    "    # pprint(asset_detection_model_deploy_request)\n",
    "\n",
    "    print(\"Deploying Asset Detection Model...\")\n",
    "\n",
    "    asset_detection_model_deploy_response = deploy_version(asset_detection_model_deploy_request, force=ASSET_DETECTION_MODEL_FORCE_DEPLOY)\n",
    "\n",
    "    print(\"Asset Detection Model deploy response:\")\n",
    "    pprint(asset_detection_model_deploy_response)\n",
    "    \n",
    "# Defect Detection Model\n",
    "if DEFECT_DETECTION_MODEL_DEPLOY:\n",
    "    defect_detection_model_deploy_request = DeployRequest(\n",
    "        name=f\"Defect Detection\",\n",
    "        description=\"\",\n",
    "        project_id=project.id,\n",
    "        model_id=defect_detection_model.id,\n",
    "        version_id=defect_detection_model_version.version,\n",
    "        node_name=DEFECT_DETECTION_MODEL_DEPLOY_NODE_NAME,\n",
    "        resources=Resources(\n",
    "            requests=ResourcesData(\n",
    "                cpu=float(DEFECT_DETECTION_MODEL_CPU_REQUESTS),\n",
    "                memory=float(DEFECT_DETECTION_MODEL_MEM_REQUESTS),\n",
    "                gpu=DEFECT_DETECTION_MODEL_GPU,\n",
    "            ),\n",
    "            limits=ResourcesData(\n",
    "                cpu=float(DEFECT_DETECTION_MODEL_CPU_LIMITS),\n",
    "                memory=float(DEFECT_DETECTION_MODEL_MEM_LIMITS),\n",
    "                gpu=DEFECT_DETECTION_MODEL_GPU,\n",
    "            )\n",
    "        )\n",
    "    )\n",
    "\n",
    "    # print(\"Defect Detection Model deploy request:\")\n",
    "    # pprint(defect_detection_model_deploy_request)\n",
    "\n",
    "    print(\"Deploying Defect Detection Model...\")\n",
    "\n",
    "    defect_detection_model_deploy_response = deploy_version(defect_detection_model_deploy_request, force=DEFECT_DETECTION_MODEL_FORCE_DEPLOY)\n",
    "\n",
    "    print(\"Defect Detection Model deploy response:\")\n",
    "    pprint(defect_detection_model_deploy_response)\n",
    "    \n",
    "# Rust Detection Model\n",
    "if RUST_DETECTION_MODEL_DEPLOY:\n",
    "    rust_detection_model_deploy_request = DeployRequest(\n",
    "        name=f\"Rust Detection\",\n",
    "        description=\"\",\n",
    "        project_id=project.id,\n",
    "        model_id=rust_detection_model.id,\n",
    "        version_id=rust_detection_model_version.version,\n",
    "        node_name=RUST_DETECTION_MODEL_DEPLOY_NODE_NAME,\n",
    "        resources=Resources(\n",
    "            requests=ResourcesData(\n",
    "                cpu=float(RUST_DETECTION_MODEL_CPU_REQUESTS),\n",
    "                memory=float(RUST_DETECTION_MODEL_MEM_REQUESTS),\n",
    "                gpu=RUST_DETECTION_MODEL_GPU,\n",
    "            ),\n",
    "            limits=ResourcesData(\n",
    "                cpu=float(RUST_DETECTION_MODEL_CPU_LIMITS),\n",
    "                memory=float(RUST_DETECTION_MODEL_MEM_LIMITS),\n",
    "                gpu=RUST_DETECTION_MODEL_GPU,\n",
    "            )\n",
    "        )\n",
    "    )\n",
    "\n",
    "    # print(\"Rust Detection Model deploy request:\")\n",
    "    # pprint(rust_detection_model_deploy_request)\n",
    "\n",
    "    print(\"Deploying Rust Detection Model...\")\n",
    "\n",
    "    rust_detection_model_deploy_response = deploy_version(rust_detection_model_deploy_request, force=RUST_DETECTION_MODEL_FORCE_DEPLOY)\n",
    "\n",
    "    print(\"Rust Detection Model deploy response:\")\n",
    "    pprint(rust_detection_model_deploy_response)"
   ]
  },
  {
   "cell_type": "markdown",
   "metadata": {},
   "source": [
    "## Cleanup"
   ]
  },
  {
   "cell_type": "markdown",
   "metadata": {},
   "source": [
    "Delete deployment."
   ]
  },
  {
   "cell_type": "code",
   "execution_count": null,
   "metadata": {},
   "outputs": [],
   "source": [
    "def stop_deployment(endpoint_id):\n",
    "    try:\n",
    "        deploy_api_instance.stop_deployment(endpoint_id)\n",
    "        print(\"Stopping...\")\n",
    "    except ApiException as ex:\n",
    "        print(\"Exception when calling stop_deployment: %s\\n\" % ex)\n",
    "\n",
    "# Asset Detection Model\n",
    "asset_detection_model_version_1 = get_version(project.id, asset_detection_model.id, asset_detection_model_version.version)\n",
    "\n",
    "if asset_detection_model_version_1 and asset_detection_model_version_1.status.value.upper() == \"DEPLOYED\":\n",
    "    stop_deployment(asset_detection_model_version_1.endpoint.id)\n",
    "    \n",
    "# Defect Detection Model\n",
    "defect_detection_model_version_1 = get_version(project.id, defect_detection_model.id, defect_detection_model_version.version)\n",
    "\n",
    "if defect_detection_model_version_1 and defect_detection_model_version_1.status.value.upper() == \"DEPLOYED\":\n",
    "    stop_deployment(defect_detection_model_version_1.endpoint.id)\n",
    "    \n",
    "# Rust Detection Model\n",
    "rust_detection_model_version_1 = get_version(project.id, rust_detection_model.id, rust_detection_model_version.version)\n",
    "\n",
    "if rust_detection_model_version_1 and rust_detection_model_version_1.status.value.upper() == \"DEPLOYED\":\n",
    "    stop_deployment(rust_detection_model_version_1.endpoint.id)"
   ]
  },
  {
   "cell_type": "code",
   "execution_count": null,
   "metadata": {},
   "outputs": [],
   "source": []
  }
 ],
 "metadata": {
  "kernelspec": {
   "display_name": "MLaaS - Python3 on Kubernetes",
   "language": "python",
   "name": "python_mlaas_kubernetes"
  },
  "language_info": {
   "codemirror_mode": {
    "name": "ipython",
    "version": 3
   },
   "file_extension": ".py",
   "mimetype": "text/x-python",
   "name": "python",
   "nbconvert_exporter": "python",
   "pygments_lexer": "ipython3",
   "version": "3.9.7"
  }
 },
 "nbformat": 4,
 "nbformat_minor": 4
}
